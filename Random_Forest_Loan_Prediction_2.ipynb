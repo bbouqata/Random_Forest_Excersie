{
 "cells": [
  {
   "cell_type": "code",
   "execution_count": 1,
   "id": "71efbeb1",
   "metadata": {},
   "outputs": [],
   "source": [
    "# Import necessary packages\n",
    "\n",
    "import numpy as np # linear algebra\n",
    "import pandas as pd # data processing, CSV file I/O (e.g. pd.read_csv)\n",
    "import matplotlib.pyplot as plt\n",
    "import seaborn as sns\n",
    "\n",
    "from sklearn.model_selection import train_test_split\n",
    "from sklearn import preprocessing\n",
    "from sklearn.preprocessing import StandardScaler\n",
    "from sklearn.metrics import accuracy_score\n",
    "\n",
    "%matplotlib inline\n",
    "sns.set_theme(style = \"darkgrid\")\n"
   ]
  },
  {
   "cell_type": "code",
   "execution_count": 2,
   "id": "8780367b",
   "metadata": {},
   "outputs": [
    {
     "data": {
      "text/html": [
       "<div>\n",
       "<style scoped>\n",
       "    .dataframe tbody tr th:only-of-type {\n",
       "        vertical-align: middle;\n",
       "    }\n",
       "\n",
       "    .dataframe tbody tr th {\n",
       "        vertical-align: top;\n",
       "    }\n",
       "\n",
       "    .dataframe thead th {\n",
       "        text-align: right;\n",
       "    }\n",
       "</style>\n",
       "<table border=\"1\" class=\"dataframe\">\n",
       "  <thead>\n",
       "    <tr style=\"text-align: right;\">\n",
       "      <th></th>\n",
       "      <th>Loan ID</th>\n",
       "      <th>Customer ID</th>\n",
       "      <th>Loan Status</th>\n",
       "      <th>Current Loan Amount</th>\n",
       "      <th>Term</th>\n",
       "      <th>Credit Score</th>\n",
       "      <th>Years in current job</th>\n",
       "      <th>Home Ownership</th>\n",
       "      <th>Annual Income</th>\n",
       "      <th>Purpose</th>\n",
       "      <th>Monthly Debt</th>\n",
       "      <th>Years of Credit History</th>\n",
       "      <th>Months since last delinquent</th>\n",
       "      <th>Number of Open Accounts</th>\n",
       "      <th>Number of Credit Problems</th>\n",
       "      <th>Current Credit Balance</th>\n",
       "      <th>Maximum Open Credit</th>\n",
       "      <th>Bankruptcies</th>\n",
       "      <th>Tax Liens</th>\n",
       "    </tr>\n",
       "  </thead>\n",
       "  <tbody>\n",
       "    <tr>\n",
       "      <th>0</th>\n",
       "      <td>6cf51492-02a2-423e-b93d-676f05b9ad53</td>\n",
       "      <td>7c202b37-2add-44e8-9aea-d5b119aea935</td>\n",
       "      <td>Charged Off</td>\n",
       "      <td>12232</td>\n",
       "      <td>Short Term</td>\n",
       "      <td>7280.0</td>\n",
       "      <td>&lt; 1 year</td>\n",
       "      <td>Rent</td>\n",
       "      <td>46643.0</td>\n",
       "      <td>Debt Consolidation</td>\n",
       "      <td>777.39</td>\n",
       "      <td>18.0</td>\n",
       "      <td>10.0</td>\n",
       "      <td>12</td>\n",
       "      <td>0</td>\n",
       "      <td>6762</td>\n",
       "      <td>7946</td>\n",
       "      <td>0.0</td>\n",
       "      <td>0.0</td>\n",
       "    </tr>\n",
       "    <tr>\n",
       "      <th>1</th>\n",
       "      <td>552e7ade-4292-4354-9ff9-c48031697d72</td>\n",
       "      <td>e7217b0a-07ac-47dd-b379-577b5a35b7c6</td>\n",
       "      <td>Charged Off</td>\n",
       "      <td>25014</td>\n",
       "      <td>Long Term</td>\n",
       "      <td>7330.0</td>\n",
       "      <td>10+ years</td>\n",
       "      <td>Home Mortgage</td>\n",
       "      <td>81099.0</td>\n",
       "      <td>Debt Consolidation</td>\n",
       "      <td>892.09</td>\n",
       "      <td>26.7</td>\n",
       "      <td>NaN</td>\n",
       "      <td>14</td>\n",
       "      <td>0</td>\n",
       "      <td>35706</td>\n",
       "      <td>77961</td>\n",
       "      <td>0.0</td>\n",
       "      <td>0.0</td>\n",
       "    </tr>\n",
       "    <tr>\n",
       "      <th>2</th>\n",
       "      <td>9b5e32b3-8d76-4801-afc8-d729d5a2e6b9</td>\n",
       "      <td>0a62fc41-16c8-40b5-92ff-9e4b763ce714</td>\n",
       "      <td>Charged Off</td>\n",
       "      <td>16117</td>\n",
       "      <td>Short Term</td>\n",
       "      <td>7240.0</td>\n",
       "      <td>9 years</td>\n",
       "      <td>Home Mortgage</td>\n",
       "      <td>60438.0</td>\n",
       "      <td>Home Improvements</td>\n",
       "      <td>1,244.02</td>\n",
       "      <td>16.7</td>\n",
       "      <td>32.0</td>\n",
       "      <td>11</td>\n",
       "      <td>1</td>\n",
       "      <td>11275</td>\n",
       "      <td>14815</td>\n",
       "      <td>1.0</td>\n",
       "      <td>0.0</td>\n",
       "    </tr>\n",
       "    <tr>\n",
       "      <th>3</th>\n",
       "      <td>1450910f-9495-4fc9-afaf-9bdf4b9821df</td>\n",
       "      <td>70c26012-bba5-42c0-8dcb-75295ada31bb</td>\n",
       "      <td>Charged Off</td>\n",
       "      <td>9789</td>\n",
       "      <td>Long Term</td>\n",
       "      <td>6860.0</td>\n",
       "      <td>10+ years</td>\n",
       "      <td>Home Mortgage</td>\n",
       "      <td>47003.0</td>\n",
       "      <td>Home Improvements</td>\n",
       "      <td>503.71</td>\n",
       "      <td>16.7</td>\n",
       "      <td>25.0</td>\n",
       "      <td>13</td>\n",
       "      <td>1</td>\n",
       "      <td>16913</td>\n",
       "      <td>19553</td>\n",
       "      <td>1.0</td>\n",
       "      <td>0.0</td>\n",
       "    </tr>\n",
       "    <tr>\n",
       "      <th>4</th>\n",
       "      <td>7e9f6759-6a13-48ef-adfa-ef9fbcfcfcc8</td>\n",
       "      <td>05301ee5-29ec-48b6-b3e5-0813ea25d684</td>\n",
       "      <td>Charged Off</td>\n",
       "      <td>11911</td>\n",
       "      <td>Short Term</td>\n",
       "      <td>7420.0</td>\n",
       "      <td>2 years</td>\n",
       "      <td>Home Mortgage</td>\n",
       "      <td>70475.0</td>\n",
       "      <td>other</td>\n",
       "      <td>886.81</td>\n",
       "      <td>17.7</td>\n",
       "      <td>NaN</td>\n",
       "      <td>13</td>\n",
       "      <td>0</td>\n",
       "      <td>28212</td>\n",
       "      <td>59897</td>\n",
       "      <td>0.0</td>\n",
       "      <td>0.0</td>\n",
       "    </tr>\n",
       "  </tbody>\n",
       "</table>\n",
       "</div>"
      ],
      "text/plain": [
       "                                Loan ID                           Customer ID  \\\n",
       "0  6cf51492-02a2-423e-b93d-676f05b9ad53  7c202b37-2add-44e8-9aea-d5b119aea935   \n",
       "1  552e7ade-4292-4354-9ff9-c48031697d72  e7217b0a-07ac-47dd-b379-577b5a35b7c6   \n",
       "2  9b5e32b3-8d76-4801-afc8-d729d5a2e6b9  0a62fc41-16c8-40b5-92ff-9e4b763ce714   \n",
       "3  1450910f-9495-4fc9-afaf-9bdf4b9821df  70c26012-bba5-42c0-8dcb-75295ada31bb   \n",
       "4  7e9f6759-6a13-48ef-adfa-ef9fbcfcfcc8  05301ee5-29ec-48b6-b3e5-0813ea25d684   \n",
       "\n",
       "   Loan Status  Current Loan Amount        Term  Credit Score  \\\n",
       "0  Charged Off                12232  Short Term        7280.0   \n",
       "1  Charged Off                25014   Long Term        7330.0   \n",
       "2  Charged Off                16117  Short Term        7240.0   \n",
       "3  Charged Off                 9789   Long Term        6860.0   \n",
       "4  Charged Off                11911  Short Term        7420.0   \n",
       "\n",
       "  Years in current job Home Ownership  Annual Income             Purpose  \\\n",
       "0             < 1 year           Rent        46643.0  Debt Consolidation   \n",
       "1            10+ years  Home Mortgage        81099.0  Debt Consolidation   \n",
       "2              9 years  Home Mortgage        60438.0   Home Improvements   \n",
       "3            10+ years  Home Mortgage        47003.0   Home Improvements   \n",
       "4              2 years  Home Mortgage        70475.0               other   \n",
       "\n",
       "  Monthly Debt  Years of Credit History  Months since last delinquent  \\\n",
       "0       777.39                     18.0                          10.0   \n",
       "1       892.09                     26.7                           NaN   \n",
       "2     1,244.02                     16.7                          32.0   \n",
       "3       503.71                     16.7                          25.0   \n",
       "4       886.81                     17.7                           NaN   \n",
       "\n",
       "   Number of Open Accounts  Number of Credit Problems  Current Credit Balance  \\\n",
       "0                       12                          0                    6762   \n",
       "1                       14                          0                   35706   \n",
       "2                       11                          1                   11275   \n",
       "3                       13                          1                   16913   \n",
       "4                       13                          0                   28212   \n",
       "\n",
       "   Maximum Open Credit  Bankruptcies  Tax Liens  \n",
       "0                 7946           0.0        0.0  \n",
       "1                77961           0.0        0.0  \n",
       "2                14815           1.0        0.0  \n",
       "3                19553           1.0        0.0  \n",
       "4                59897           0.0        0.0  "
      ]
     },
     "execution_count": 2,
     "metadata": {},
     "output_type": "execute_result"
    }
   ],
   "source": [
    "# Read the .csv data set\n",
    "data = pd.read_csv(\"./input_data/Loan_Granting_Binary_Classification_2.csv\")\n",
    "\n",
    "#get the first few rows of the dataset \n",
    "data.head()"
   ]
  },
  {
   "cell_type": "code",
   "execution_count": 3,
   "id": "220844a9",
   "metadata": {},
   "outputs": [
    {
     "name": "stdout",
     "output_type": "stream",
     "text": [
      "Rows: 105549\n",
      "Columns: 19\n"
     ]
    }
   ],
   "source": [
    "# Understand the shape of the data\n",
    "rows, columns = data.shape\n",
    "print('Rows:', rows)\n",
    "print('Columns:', columns)"
   ]
  },
  {
   "cell_type": "code",
   "execution_count": 4,
   "id": "5f6e4f57",
   "metadata": {},
   "outputs": [
    {
     "name": "stdout",
     "output_type": "stream",
     "text": [
      "<class 'pandas.core.frame.DataFrame'>\n",
      "RangeIndex: 105549 entries, 0 to 105548\n",
      "Data columns (total 19 columns):\n",
      " #   Column                        Non-Null Count   Dtype  \n",
      "---  ------                        --------------   -----  \n",
      " 0   Loan ID                       105549 non-null  object \n",
      " 1   Customer ID                   105549 non-null  object \n",
      " 2   Loan Status                   105549 non-null  object \n",
      " 3   Current Loan Amount           105549 non-null  int64  \n",
      " 4   Term                          105549 non-null  object \n",
      " 5   Credit Score                  84996 non-null   float64\n",
      " 6   Years in current job          101038 non-null  object \n",
      " 7   Home Ownership                105549 non-null  object \n",
      " 8   Annual Income                 84996 non-null   float64\n",
      " 9   Purpose                       105549 non-null  object \n",
      " 10  Monthly Debt                  105549 non-null  object \n",
      " 11  Years of Credit History       105549 non-null  float64\n",
      " 12  Months since last delinquent  48887 non-null   float64\n",
      " 13  Number of Open Accounts       105549 non-null  int64  \n",
      " 14  Number of Credit Problems     105549 non-null  int64  \n",
      " 15  Current Credit Balance        105549 non-null  int64  \n",
      " 16  Maximum Open Credit           105549 non-null  int64  \n",
      " 17  Bankruptcies                  105328 non-null  float64\n",
      " 18  Tax Liens                     105538 non-null  float64\n",
      "dtypes: float64(6), int64(5), object(8)\n",
      "memory usage: 15.3+ MB\n"
     ]
    }
   ],
   "source": [
    "# check the data types and other information\n",
    "# Before enconding and pre-processing\n",
    "data.info()"
   ]
  },
  {
   "cell_type": "code",
   "execution_count": 5,
   "id": "830489d9",
   "metadata": {},
   "outputs": [],
   "source": [
    "# There are 19 columns (ie: features)\n",
    "# 8 features are features so probably categorical (qualitative data)\n",
    "# 11 features are numeric (quantitative data)"
   ]
  },
  {
   "cell_type": "code",
   "execution_count": 6,
   "id": "b8677b2d",
   "metadata": {},
   "outputs": [
    {
     "data": {
      "text/plain": [
       "Loan ID                             0\n",
       "Customer ID                         0\n",
       "Loan Status                         0\n",
       "Current Loan Amount                 0\n",
       "Term                                0\n",
       "Credit Score                    20553\n",
       "Years in current job             4511\n",
       "Home Ownership                      0\n",
       "Annual Income                   20553\n",
       "Purpose                             0\n",
       "Monthly Debt                        0\n",
       "Years of Credit History             0\n",
       "Months since last delinquent    56662\n",
       "Number of Open Accounts             0\n",
       "Number of Credit Problems           0\n",
       "Current Credit Balance              0\n",
       "Maximum Open Credit                 0\n",
       "Bankruptcies                      221\n",
       "Tax Liens                          11\n",
       "dtype: int64"
      ]
     },
     "execution_count": 6,
     "metadata": {},
     "output_type": "execute_result"
    }
   ],
   "source": [
    "# Let's check if there are any missing values in the data\n",
    "# before the data pre-processing\n",
    "data.isnull().sum()"
   ]
  },
  {
   "cell_type": "code",
   "execution_count": 7,
   "id": "9f0ed2ff",
   "metadata": {},
   "outputs": [],
   "source": [
    "# There are several missing values in the following features\n",
    "# Credit Score                   ---  20553 missing values\n",
    "# Years in current job           ---  4511 missing values\n",
    "# Annual Income                  ---  20553 missing values\n",
    "# Months since last delinquent   ---   56662 missing values\n",
    "# Since the count of each one of the features that have null\n",
    "# vlaues or missing values  is less than %50 of the data size (105549)\n",
    "# we can fill the null values with the mean value from theat feature"
   ]
  },
  {
   "cell_type": "code",
   "execution_count": 8,
   "id": "66f9b248",
   "metadata": {},
   "outputs": [],
   "source": [
    "# we can fill the null values with the mean value from theat feature\n",
    "data['Credit Score'].fillna(int(data['Credit Score'].mean()), inplace=True)\n",
    "#data['Years in current job'].fillna(int(data['Years in current job'].mean()), inplace=True)\n",
    "data['Annual Income'].fillna(int(data['Annual Income'].mean()), inplace=True)\n",
    "data['Months since last delinquent'].fillna(int(data['Months since last delinquent'].mean()), inplace=True)\n",
    "data['Bankruptcies'].fillna(int(data['Bankruptcies'].mean()), inplace=True)\n",
    "data['Tax Liens'].fillna(int(data['Tax Liens'].mean()), inplace=True)\n",
    "\n"
   ]
  },
  {
   "cell_type": "code",
   "execution_count": 9,
   "id": "01ca024f",
   "metadata": {},
   "outputs": [
    {
     "name": "stdout",
     "output_type": "stream",
     "text": [
      "Years in current job =  0          0.0\n",
      "1         10.0\n",
      "2          9.0\n",
      "3         10.0\n",
      "4          2.0\n",
      "          ... \n",
      "105544    10.0\n",
      "105545    10.0\n",
      "105546     5.0\n",
      "105547    10.0\n",
      "105548     0.0\n",
      "Name: Years in current job, Length: 105549, dtype: float64\n"
     ]
    }
   ],
   "source": [
    "# Encoding of Categorical features\n",
    "# “years_in_current_job” we just trim \n",
    "# the ‘year’ part and leave the years only\n",
    "data[\"Years in current job\"] = data[\"Years in current job\"].replace({'-1': -1, '10+ years': 10, '8 years': 8, '6 years': 6, \n",
    "                                                                              '7 years': 7, '5 years': 5, '1 year': 1, '< 1 year': 0, \n",
    "                                                                              '4 years': 4, '3 years': 3, '2 years': 2, '9 years': 9})\n",
    "print(\"Years in current job = \",data[\"Years in current job\"] )"
   ]
  },
  {
   "cell_type": "code",
   "execution_count": 10,
   "id": "59a941b0",
   "metadata": {},
   "outputs": [],
   "source": [
    "data['Years in current job'].fillna(int(data['Years in current job'].mean()), inplace=True)"
   ]
  },
  {
   "cell_type": "code",
   "execution_count": 11,
   "id": "b64d95b1",
   "metadata": {},
   "outputs": [
    {
     "data": {
      "text/plain": [
       "Loan ID                         0\n",
       "Customer ID                     0\n",
       "Loan Status                     0\n",
       "Current Loan Amount             0\n",
       "Term                            0\n",
       "Credit Score                    0\n",
       "Years in current job            0\n",
       "Home Ownership                  0\n",
       "Annual Income                   0\n",
       "Purpose                         0\n",
       "Monthly Debt                    0\n",
       "Years of Credit History         0\n",
       "Months since last delinquent    0\n",
       "Number of Open Accounts         0\n",
       "Number of Credit Problems       0\n",
       "Current Credit Balance          0\n",
       "Maximum Open Credit             0\n",
       "Bankruptcies                    0\n",
       "Tax Liens                       0\n",
       "dtype: int64"
      ]
     },
     "execution_count": 11,
     "metadata": {},
     "output_type": "execute_result"
    }
   ],
   "source": [
    "# Let's check if there are any missing values in the data\n",
    "# after the data pre-processing\n",
    "data.isnull().sum()"
   ]
  },
  {
   "cell_type": "code",
   "execution_count": 12,
   "id": "bac943ff",
   "metadata": {},
   "outputs": [
    {
     "data": {
      "text/plain": [
       "Index(['Loan ID', 'Customer ID', 'Loan Status', 'Current Loan Amount', 'Term',\n",
       "       'Credit Score', 'Years in current job', 'Home Ownership',\n",
       "       'Annual Income', 'Purpose', 'Monthly Debt', 'Years of Credit History',\n",
       "       'Months since last delinquent', 'Number of Open Accounts',\n",
       "       'Number of Credit Problems', 'Current Credit Balance',\n",
       "       'Maximum Open Credit', 'Bankruptcies', 'Tax Liens'],\n",
       "      dtype='object')"
      ]
     },
     "execution_count": 12,
     "metadata": {},
     "output_type": "execute_result"
    }
   ],
   "source": [
    "# The features/columns names \n",
    "data.columns"
   ]
  },
  {
   "cell_type": "code",
   "execution_count": 13,
   "id": "e77ee59f",
   "metadata": {},
   "outputs": [
    {
     "data": {
      "text/html": [
       "<div>\n",
       "<style scoped>\n",
       "    .dataframe tbody tr th:only-of-type {\n",
       "        vertical-align: middle;\n",
       "    }\n",
       "\n",
       "    .dataframe tbody tr th {\n",
       "        vertical-align: top;\n",
       "    }\n",
       "\n",
       "    .dataframe thead th {\n",
       "        text-align: right;\n",
       "    }\n",
       "</style>\n",
       "<table border=\"1\" class=\"dataframe\">\n",
       "  <thead>\n",
       "    <tr style=\"text-align: right;\">\n",
       "      <th></th>\n",
       "      <th>Current Loan Amount</th>\n",
       "      <th>Credit Score</th>\n",
       "      <th>Years in current job</th>\n",
       "      <th>Annual Income</th>\n",
       "      <th>Years of Credit History</th>\n",
       "      <th>Months since last delinquent</th>\n",
       "      <th>Number of Open Accounts</th>\n",
       "      <th>Number of Credit Problems</th>\n",
       "      <th>Current Credit Balance</th>\n",
       "      <th>Maximum Open Credit</th>\n",
       "      <th>Bankruptcies</th>\n",
       "      <th>Tax Liens</th>\n",
       "    </tr>\n",
       "  </thead>\n",
       "  <tbody>\n",
       "    <tr>\n",
       "      <th>count</th>\n",
       "      <td>1.055490e+05</td>\n",
       "      <td>105549.000000</td>\n",
       "      <td>105549.000000</td>\n",
       "      <td>1.055490e+05</td>\n",
       "      <td>105549.000000</td>\n",
       "      <td>105549.000000</td>\n",
       "      <td>105549.000000</td>\n",
       "      <td>105549.000000</td>\n",
       "      <td>1.055490e+05</td>\n",
       "      <td>1.055490e+05</td>\n",
       "      <td>105549.000000</td>\n",
       "      <td>105549.000000</td>\n",
       "    </tr>\n",
       "    <tr>\n",
       "      <th>mean</th>\n",
       "      <td>1.142527e+07</td>\n",
       "      <td>1074.603757</td>\n",
       "      <td>5.849321</td>\n",
       "      <td>7.236810e+04</td>\n",
       "      <td>18.195536</td>\n",
       "      <td>34.420980</td>\n",
       "      <td>11.125127</td>\n",
       "      <td>0.167666</td>\n",
       "      <td>1.548655e+04</td>\n",
       "      <td>3.463958e+04</td>\n",
       "      <td>0.117187</td>\n",
       "      <td>0.029342</td>\n",
       "    </tr>\n",
       "    <tr>\n",
       "      <th>std</th>\n",
       "      <td>3.179220e+07</td>\n",
       "      <td>1320.832405</td>\n",
       "      <td>3.556259</td>\n",
       "      <td>4.308951e+04</td>\n",
       "      <td>7.022730</td>\n",
       "      <td>14.973661</td>\n",
       "      <td>5.012948</td>\n",
       "      <td>0.483888</td>\n",
       "      <td>1.980567e+04</td>\n",
       "      <td>3.736479e+05</td>\n",
       "      <td>0.350620</td>\n",
       "      <td>0.260566</td>\n",
       "    </tr>\n",
       "    <tr>\n",
       "      <th>min</th>\n",
       "      <td>4.910000e+02</td>\n",
       "      <td>585.000000</td>\n",
       "      <td>0.000000</td>\n",
       "      <td>4.033000e+03</td>\n",
       "      <td>3.600000</td>\n",
       "      <td>0.000000</td>\n",
       "      <td>0.000000</td>\n",
       "      <td>0.000000</td>\n",
       "      <td>0.000000e+00</td>\n",
       "      <td>0.000000e+00</td>\n",
       "      <td>0.000000</td>\n",
       "      <td>0.000000</td>\n",
       "    </tr>\n",
       "    <tr>\n",
       "      <th>25%</th>\n",
       "      <td>8.158000e+03</td>\n",
       "      <td>711.000000</td>\n",
       "      <td>3.000000</td>\n",
       "      <td>4.903200e+04</td>\n",
       "      <td>13.500000</td>\n",
       "      <td>34.000000</td>\n",
       "      <td>8.000000</td>\n",
       "      <td>0.000000</td>\n",
       "      <td>5.916000e+03</td>\n",
       "      <td>1.243500e+04</td>\n",
       "      <td>0.000000</td>\n",
       "      <td>0.000000</td>\n",
       "    </tr>\n",
       "    <tr>\n",
       "      <th>50%</th>\n",
       "      <td>1.417800e+04</td>\n",
       "      <td>733.000000</td>\n",
       "      <td>6.000000</td>\n",
       "      <td>7.236800e+04</td>\n",
       "      <td>16.900000</td>\n",
       "      <td>34.000000</td>\n",
       "      <td>10.000000</td>\n",
       "      <td>0.000000</td>\n",
       "      <td>1.104300e+04</td>\n",
       "      <td>2.127400e+04</td>\n",
       "      <td>0.000000</td>\n",
       "      <td>0.000000</td>\n",
       "    </tr>\n",
       "    <tr>\n",
       "      <th>75%</th>\n",
       "      <td>2.381000e+04</td>\n",
       "      <td>750.000000</td>\n",
       "      <td>10.000000</td>\n",
       "      <td>7.948300e+04</td>\n",
       "      <td>21.700000</td>\n",
       "      <td>34.000000</td>\n",
       "      <td>14.000000</td>\n",
       "      <td>0.000000</td>\n",
       "      <td>1.935400e+04</td>\n",
       "      <td>3.563400e+04</td>\n",
       "      <td>0.000000</td>\n",
       "      <td>0.000000</td>\n",
       "    </tr>\n",
       "    <tr>\n",
       "      <th>max</th>\n",
       "      <td>1.000000e+08</td>\n",
       "      <td>7510.000000</td>\n",
       "      <td>10.000000</td>\n",
       "      <td>1.919760e+06</td>\n",
       "      <td>70.500000</td>\n",
       "      <td>176.000000</td>\n",
       "      <td>76.000000</td>\n",
       "      <td>15.000000</td>\n",
       "      <td>1.730472e+06</td>\n",
       "      <td>6.998809e+07</td>\n",
       "      <td>7.000000</td>\n",
       "      <td>15.000000</td>\n",
       "    </tr>\n",
       "  </tbody>\n",
       "</table>\n",
       "</div>"
      ],
      "text/plain": [
       "       Current Loan Amount   Credit Score  Years in current job  \\\n",
       "count         1.055490e+05  105549.000000         105549.000000   \n",
       "mean          1.142527e+07    1074.603757              5.849321   \n",
       "std           3.179220e+07    1320.832405              3.556259   \n",
       "min           4.910000e+02     585.000000              0.000000   \n",
       "25%           8.158000e+03     711.000000              3.000000   \n",
       "50%           1.417800e+04     733.000000              6.000000   \n",
       "75%           2.381000e+04     750.000000             10.000000   \n",
       "max           1.000000e+08    7510.000000             10.000000   \n",
       "\n",
       "       Annual Income  Years of Credit History  Months since last delinquent  \\\n",
       "count   1.055490e+05            105549.000000                 105549.000000   \n",
       "mean    7.236810e+04                18.195536                     34.420980   \n",
       "std     4.308951e+04                 7.022730                     14.973661   \n",
       "min     4.033000e+03                 3.600000                      0.000000   \n",
       "25%     4.903200e+04                13.500000                     34.000000   \n",
       "50%     7.236800e+04                16.900000                     34.000000   \n",
       "75%     7.948300e+04                21.700000                     34.000000   \n",
       "max     1.919760e+06                70.500000                    176.000000   \n",
       "\n",
       "       Number of Open Accounts  Number of Credit Problems  \\\n",
       "count            105549.000000              105549.000000   \n",
       "mean                 11.125127                   0.167666   \n",
       "std                   5.012948                   0.483888   \n",
       "min                   0.000000                   0.000000   \n",
       "25%                   8.000000                   0.000000   \n",
       "50%                  10.000000                   0.000000   \n",
       "75%                  14.000000                   0.000000   \n",
       "max                  76.000000                  15.000000   \n",
       "\n",
       "       Current Credit Balance  Maximum Open Credit   Bankruptcies  \\\n",
       "count            1.055490e+05         1.055490e+05  105549.000000   \n",
       "mean             1.548655e+04         3.463958e+04       0.117187   \n",
       "std              1.980567e+04         3.736479e+05       0.350620   \n",
       "min              0.000000e+00         0.000000e+00       0.000000   \n",
       "25%              5.916000e+03         1.243500e+04       0.000000   \n",
       "50%              1.104300e+04         2.127400e+04       0.000000   \n",
       "75%              1.935400e+04         3.563400e+04       0.000000   \n",
       "max              1.730472e+06         6.998809e+07       7.000000   \n",
       "\n",
       "           Tax Liens  \n",
       "count  105549.000000  \n",
       "mean        0.029342  \n",
       "std         0.260566  \n",
       "min         0.000000  \n",
       "25%         0.000000  \n",
       "50%         0.000000  \n",
       "75%         0.000000  \n",
       "max        15.000000  "
      ]
     },
     "execution_count": 13,
     "metadata": {},
     "output_type": "execute_result"
    }
   ],
   "source": [
    "#####################################\n",
    "## Analyze the numerical features\n",
    "#####################################\n",
    "data.describe()"
   ]
  },
  {
   "cell_type": "code",
   "execution_count": 14,
   "id": "de916ace",
   "metadata": {},
   "outputs": [
    {
     "data": {
      "image/png": "[encoded data removed]",
      "text/plain": [
       "<Figure size 1584x1440 with 12 Axes>"
      ]
     },
     "metadata": {
      "needs_background": "light"
     },
     "output_type": "display_data"
    }
   ],
   "source": [
    "# Understand the data distribution\n",
    "data.hist( figsize = (22, 20) )\n",
    "plt.show()"
   ]
  },
  {
   "cell_type": "code",
   "execution_count": 15,
   "id": "5e2ee055",
   "metadata": {},
   "outputs": [
    {
     "data": {
      "text/plain": [
       "Fully Paid     81684\n",
       "Charged Off    23865\n",
       "Name: Loan Status, dtype: int64"
      ]
     },
     "execution_count": 15,
     "metadata": {},
     "output_type": "execute_result"
    }
   ],
   "source": [
    "# check the count of the target variable\n",
    "data[\"Loan Status\"].value_counts()"
   ]
  },
  {
   "cell_type": "code",
   "execution_count": 16,
   "id": "e405e9d3",
   "metadata": {},
   "outputs": [],
   "source": [
    "# \"Charged Off\" means defaulted \n",
    "# about 25% of the people defaulted on their loan\n"
   ]
  },
  {
   "cell_type": "code",
   "execution_count": 17,
   "id": "fa6ce6d7",
   "metadata": {},
   "outputs": [
    {
     "data": {
      "image/png": "[encoded data removed]",
      "text/plain": [
       "<Figure size 864x576 with 2 Axes>"
      ]
     },
     "metadata": {
      "needs_background": "light"
     },
     "output_type": "display_data"
    }
   ],
   "source": [
    "# plot the correlation plot\n",
    "fig, ax = plt.subplots( figsize = (12,8) )\n",
    "corr_matrix = data.corr()\n",
    "corr_heatmap = sns.heatmap( corr_matrix, cmap = \"flare\", annot=True, ax=ax, annot_kws={\"size\": 14})\n",
    "plt.show()"
   ]
  },
  {
   "cell_type": "code",
   "execution_count": 18,
   "id": "54f19aff",
   "metadata": {},
   "outputs": [],
   "source": [
    "#####################################\n",
    "## Analyze the categorical features\n",
    "#####################################"
   ]
  },
  {
   "cell_type": "code",
   "execution_count": 19,
   "id": "a7cdd14e",
   "metadata": {},
   "outputs": [],
   "source": [
    "# This is a method to create the plots for the categorical features\n",
    "def categorical_valcount_hist(feature):\n",
    "    print(data[feature].value_counts())\n",
    "    fig, ax = plt.subplots( figsize = (10,10) )\n",
    "    sns.countplot(x=feature, ax=ax, data=data)\n",
    "    plt.show()"
   ]
  },
  {
   "cell_type": "code",
   "execution_count": 20,
   "id": "76747ea4",
   "metadata": {},
   "outputs": [
    {
     "name": "stdout",
     "output_type": "stream",
     "text": [
      "Home Mortgage    51067\n",
      "Rent             44591\n",
      "Own Home          9675\n",
      "HaveMortgage       216\n",
      "Name: Home Ownership, dtype: int64\n"
     ]
    },
    {
     "data": {
      "image/png": "[encoded data removed]",
      "text/plain": [
       "<Figure size 720x720 with 1 Axes>"
      ]
     },
     "metadata": {
      "needs_background": "light"
     },
     "output_type": "display_data"
    }
   ],
   "source": [
    "# Check feature \"Home Ownership\"\n",
    "categorical_valcount_hist(\"Home Ownership\")"
   ]
  },
  {
   "cell_type": "code",
   "execution_count": 21,
   "id": "5b3bf902",
   "metadata": {},
   "outputs": [
    {
     "name": "stdout",
     "output_type": "stream",
     "text": [
      "10.0    32762\n",
      "5.0     11722\n",
      "2.0      9614\n",
      "3.0      8695\n",
      "0.0      8623\n",
      "1.0      6813\n",
      "4.0      6458\n",
      "6.0      5988\n",
      "7.0      5888\n",
      "8.0      4816\n",
      "9.0      4170\n",
      "Name: Years in current job, dtype: int64\n"
     ]
    },
    {
     "data": {
      "image/png": "[encoded data removed]",
      "text/plain": [
       "<Figure size 720x720 with 1 Axes>"
      ]
     },
     "metadata": {
      "needs_background": "light"
     },
     "output_type": "display_data"
    }
   ],
   "source": [
    "# Check feature \"Years in current job\"\n",
    "categorical_valcount_hist(\"Years in current job\")"
   ]
  },
  {
   "cell_type": "code",
   "execution_count": 22,
   "id": "9d000c27",
   "metadata": {},
   "outputs": [],
   "source": [
    "# The majority have worked in the current job 10+ years"
   ]
  },
  {
   "cell_type": "code",
   "execution_count": 23,
   "id": "0fb667d3",
   "metadata": {},
   "outputs": [
    {
     "name": "stdout",
     "output_type": "stream",
     "text": [
      "Short Term    76273\n",
      "Long Term     29276\n",
      "Name: Term, dtype: int64\n"
     ]
    },
    {
     "data": {
      "image/png": "[encoded data removed]",
      "text/plain": [
       "<Figure size 720x720 with 1 Axes>"
      ]
     },
     "metadata": {
      "needs_background": "light"
     },
     "output_type": "display_data"
    }
   ],
   "source": [
    "# Check feature \"Term\"\n",
    "categorical_valcount_hist(\"Term\")"
   ]
  },
  {
   "cell_type": "code",
   "execution_count": 24,
   "id": "74b39e22",
   "metadata": {},
   "outputs": [],
   "source": [
    "# about 2/3 of the loans are \"short term\""
   ]
  },
  {
   "cell_type": "code",
   "execution_count": 25,
   "id": "c74c7d49",
   "metadata": {},
   "outputs": [
    {
     "name": "stdout",
     "output_type": "stream",
     "text": [
      "Debt Consolidation      82902\n",
      "other                    6322\n",
      "Home Improvements        6182\n",
      "Other                    3417\n",
      "Business Loan            1646\n",
      "Buy a Car                1357\n",
      "Medical Bills            1205\n",
      "Buy House                 722\n",
      "Take a Trip               592\n",
      "major_purchase            398\n",
      "small_business            300\n",
      "moving                    163\n",
      "wedding                   122\n",
      "vacation                  106\n",
      "Educational Expenses      104\n",
      "renewable_energy           11\n",
      "Name: Purpose, dtype: int64\n"
     ]
    },
    {
     "data": {
      "image/png": "[encoded data removed]",
      "text/plain": [
       "<Figure size 720x720 with 1 Axes>"
      ]
     },
     "metadata": {
      "needs_background": "light"
     },
     "output_type": "display_data"
    }
   ],
   "source": [
    "# Check feature \"Purpose\"\n",
    "categorical_valcount_hist(\"Purpose\")"
   ]
  },
  {
   "cell_type": "code",
   "execution_count": null,
   "id": "4c230975",
   "metadata": {},
   "outputs": [],
   "source": []
  },
  {
   "cell_type": "code",
   "execution_count": 26,
   "id": "0422681b",
   "metadata": {},
   "outputs": [
    {
     "name": "stdout",
     "output_type": "stream",
     "text": [
      "Requirement already satisfied: category_encoders in /home/ec2-user/anaconda3/envs/python3/lib/python3.6/site-packages (2.4.1)\n",
      "Requirement already satisfied: numpy>=1.14.0 in /home/ec2-user/anaconda3/envs/python3/lib/python3.6/site-packages (from category_encoders) (1.19.5)\n",
      "Requirement already satisfied: scipy>=1.0.0 in /home/ec2-user/anaconda3/envs/python3/lib/python3.6/site-packages (from category_encoders) (1.5.4)\n",
      "Requirement already satisfied: pandas>=0.21.1 in /home/ec2-user/anaconda3/envs/python3/lib/python3.6/site-packages (from category_encoders) (1.1.5)\n",
      "Requirement already satisfied: scikit-learn>=0.20.0 in /home/ec2-user/anaconda3/envs/python3/lib/python3.6/site-packages (from category_encoders) (0.24.1)\n",
      "Requirement already satisfied: patsy>=0.5.1 in /home/ec2-user/anaconda3/envs/python3/lib/python3.6/site-packages (from category_encoders) (0.5.1)\n",
      "Requirement already satisfied: statsmodels>=0.9.0 in /home/ec2-user/anaconda3/envs/python3/lib/python3.6/site-packages (from category_encoders) (0.12.2)\n",
      "Requirement already satisfied: python-dateutil>=2.7.3 in /home/ec2-user/anaconda3/envs/python3/lib/python3.6/site-packages (from pandas>=0.21.1->category_encoders) (2.8.1)\n",
      "Requirement already satisfied: pytz>=2017.2 in /home/ec2-user/anaconda3/envs/python3/lib/python3.6/site-packages (from pandas>=0.21.1->category_encoders) (2021.1)\n",
      "Requirement already satisfied: six in /home/ec2-user/anaconda3/envs/python3/lib/python3.6/site-packages (from patsy>=0.5.1->category_encoders) (1.15.0)\n",
      "Requirement already satisfied: threadpoolctl>=2.0.0 in /home/ec2-user/anaconda3/envs/python3/lib/python3.6/site-packages (from scikit-learn>=0.20.0->category_encoders) (2.1.0)\n",
      "Requirement already satisfied: joblib>=0.11 in /home/ec2-user/anaconda3/envs/python3/lib/python3.6/site-packages (from scikit-learn>=0.20.0->category_encoders) (1.0.1)\n"
     ]
    }
   ],
   "source": [
    "!pip install --upgrade category_encoders"
   ]
  },
  {
   "cell_type": "code",
   "execution_count": 27,
   "id": "0e04e772",
   "metadata": {},
   "outputs": [],
   "source": [
    "from sklearn.preprocessing import LabelEncoder\n",
    "from sklearn.preprocessing import OneHotEncoder\n",
    "import category_encoders as ce"
   ]
  },
  {
   "cell_type": "code",
   "execution_count": 28,
   "id": "181c95b5",
   "metadata": {
    "scrolled": true
   },
   "outputs": [
    {
     "name": "stdout",
     "output_type": "stream",
     "text": [
      "Total categories in Monthly Debt: 68038\n",
      "\n",
      "0           77\n",
      "587.52       9\n",
      "837          9\n",
      "984.75       9\n",
      "765          8\n",
      "            ..\n",
      "775.79       1\n",
      "784.21       1\n",
      "720.91       1\n",
      "783.59       1\n",
      "1,446.28     1\n",
      "Name: Monthly Debt, Length: 68038, dtype: int64\n"
     ]
    }
   ],
   "source": [
    "# Check count per \"Monthly Debt\"\n",
    "#categorical_valcount_hist(\"Monthly Debt\") \n",
    "print( \"Total categories in Monthly Debt:\", len( data[\"Monthly Debt\"].unique() ) )\n",
    "print()\n",
    "print( data[\"Monthly Debt\"].value_counts() )"
   ]
  },
  {
   "cell_type": "code",
   "execution_count": 29,
   "id": "ff5ffdca",
   "metadata": {},
   "outputs": [
    {
     "name": "stdout",
     "output_type": "stream",
     "text": [
      "onehot_encoder for Home Owenership = 0         0.0\n",
      "1         0.0\n",
      "2         0.0\n",
      "3         0.0\n",
      "4         0.0\n",
      "         ... \n",
      "105544    0.0\n",
      "105545    0.0\n",
      "105546    0.0\n",
      "105547    0.0\n",
      "105548    0.0\n",
      "Name: Home Ownership, Length: 105549, dtype: float64\n"
     ]
    }
   ],
   "source": [
    "onehot_encoder = OneHotEncoder(sparse = False)\n",
    "data['Home Ownership'] = onehot_encoder.fit_transform(data['Home Ownership'].values.reshape(-1, 1) )\n",
    "print(\"onehot_encoder for Home Owenership =\",data['Home Ownership'])"
   ]
  },
  {
   "cell_type": "code",
   "execution_count": 30,
   "id": "b7d10cd9",
   "metadata": {},
   "outputs": [
    {
     "name": "stdout",
     "output_type": "stream",
     "text": [
      "onehot_encoder for Purpose = 0         0.0\n",
      "1         0.0\n",
      "2         0.0\n",
      "3         0.0\n",
      "4         0.0\n",
      "         ... \n",
      "105544    0.0\n",
      "105545    0.0\n",
      "105546    0.0\n",
      "105547    0.0\n",
      "105548    0.0\n",
      "Name: Purpose, Length: 105549, dtype: float64\n"
     ]
    }
   ],
   "source": [
    "onehot_encoder = OneHotEncoder(sparse = False)\n",
    "data['Purpose'] = onehot_encoder.fit_transform(data['Purpose'].values.reshape(-1, 1) )\n",
    "print(\"onehot_encoder for Purpose =\",data['Purpose'])"
   ]
  },
  {
   "cell_type": "code",
   "execution_count": 31,
   "id": "5ded8b3d",
   "metadata": {},
   "outputs": [
    {
     "name": "stdout",
     "output_type": "stream",
     "text": [
      "onehot_encoder for Loan Status = 0         1.0\n",
      "1         1.0\n",
      "2         1.0\n",
      "3         1.0\n",
      "4         1.0\n",
      "         ... \n",
      "105544    0.0\n",
      "105545    0.0\n",
      "105546    0.0\n",
      "105547    0.0\n",
      "105548    0.0\n",
      "Name: Loan Status, Length: 105549, dtype: float64\n"
     ]
    }
   ],
   "source": [
    "onehot_encoder = OneHotEncoder(sparse = False)\n",
    "data['Loan Status'] = onehot_encoder.fit_transform(data['Loan Status'].values.reshape(-1, 1) )\n",
    "print(\"onehot_encoder for Loan Status =\",data['Loan Status'])"
   ]
  },
  {
   "cell_type": "code",
   "execution_count": 32,
   "id": "254fa99f",
   "metadata": {},
   "outputs": [
    {
     "data": {
      "text/plain": [
       "<matplotlib.axes._subplots.AxesSubplot at 0x7ff96ab030f0>"
      ]
     },
     "execution_count": 32,
     "metadata": {},
     "output_type": "execute_result"
    },
    {
     "data": {
      "image/png": "[encoded data removed]",
      "text/plain": [
       "<Figure size 2880x2736 with 1 Axes>"
      ]
     },
     "metadata": {
      "needs_background": "light"
     },
     "output_type": "display_data"
    }
   ],
   "source": [
    "fig, ax = plt.subplots( figsize = (40,38) )\n",
    "sns.boxplot(x = \"Loan Status\", y = \"Years in current job\", hue='Home Ownership', data = data)"
   ]
  },
  {
   "cell_type": "code",
   "execution_count": 33,
   "id": "4ac752d5",
   "metadata": {},
   "outputs": [
    {
     "data": {
      "text/plain": [
       "<matplotlib.axes._subplots.AxesSubplot at 0x7ff969e10470>"
      ]
     },
     "execution_count": 33,
     "metadata": {},
     "output_type": "execute_result"
    },
    {
     "data": {
      "image/png": "[encoded data removed]",
      "text/plain": [
       "<Figure size 576x432 with 1 Axes>"
      ]
     },
     "metadata": {
      "needs_background": "light"
     },
     "output_type": "display_data"
    }
   ],
   "source": [
    "fig, ax = plt.subplots( figsize = (8,6) )\n",
    "sns.countplot(x='Home Ownership', hue='Loan Status', ax=ax, data=data)"
   ]
  },
  {
   "cell_type": "code",
   "execution_count": 34,
   "id": "cbd85001",
   "metadata": {},
   "outputs": [
    {
     "name": "stdout",
     "output_type": "stream",
     "text": [
      "onehot_encoder for Monthly Debt = 0         0.0\n",
      "1         0.0\n",
      "2         0.0\n",
      "3         0.0\n",
      "4         0.0\n",
      "         ... \n",
      "105544    0.0\n",
      "105545    0.0\n",
      "105546    0.0\n",
      "105547    0.0\n",
      "105548    0.0\n",
      "Name: Monthly Debt, Length: 105549, dtype: float64\n"
     ]
    }
   ],
   "source": [
    "onehot_encoder = OneHotEncoder(sparse = False)\n",
    "data['Monthly Debt'] = onehot_encoder.fit_transform(data['Monthly Debt'].values.reshape(-1, 1) )\n",
    "print(\"onehot_encoder for Monthly Debt =\",data['Monthly Debt'])"
   ]
  },
  {
   "cell_type": "code",
   "execution_count": 35,
   "id": "8ed490ef",
   "metadata": {},
   "outputs": [
    {
     "data": {
      "text/plain": [
       "<matplotlib.axes._subplots.AxesSubplot at 0x7ff969e0cb38>"
      ]
     },
     "execution_count": 35,
     "metadata": {},
     "output_type": "execute_result"
    },
    {
     "data": {
      "image/png": "[encoded data removed]",
      "text/plain": [
       "<Figure size 432x288 with 1 Axes>"
      ]
     },
     "metadata": {
      "needs_background": "light"
     },
     "output_type": "display_data"
    }
   ],
   "source": [
    "# Analize the relationship between the Target feature and other features\n",
    "sns.boxplot(x =\"Loan Status\",y=\"Term\" ,data = data)"
   ]
  },
  {
   "cell_type": "code",
   "execution_count": 36,
   "id": "96b244c0",
   "metadata": {},
   "outputs": [
    {
     "name": "stdout",
     "output_type": "stream",
     "text": [
      "onehot_encoder for Term = 0         0.0\n",
      "1         1.0\n",
      "2         0.0\n",
      "3         1.0\n",
      "4         0.0\n",
      "         ... \n",
      "105544    1.0\n",
      "105545    0.0\n",
      "105546    0.0\n",
      "105547    0.0\n",
      "105548    1.0\n",
      "Name: Term, Length: 105549, dtype: float64\n"
     ]
    }
   ],
   "source": [
    "onehot_encoder = OneHotEncoder(sparse = False)\n",
    "data['Term'] = onehot_encoder.fit_transform(data['Term'].values.reshape(-1, 1) )\n",
    "print(\"onehot_encoder for Term =\",data['Term'])"
   ]
  },
  {
   "cell_type": "code",
   "execution_count": 37,
   "id": "fb766544",
   "metadata": {},
   "outputs": [
    {
     "name": "stdout",
     "output_type": "stream",
     "text": [
      "length of loan status 105549\n"
     ]
    }
   ],
   "source": [
    "print(\"length of loan status\",len( data[\"Loan Status\"]))"
   ]
  },
  {
   "cell_type": "code",
   "execution_count": 38,
   "id": "2027e41a",
   "metadata": {},
   "outputs": [],
   "source": [
    "# drop columns and features that are not needed such as 'Loan ID' and 'Customer ID'\n",
    "data= data.drop(labels=['Loan ID', 'Customer ID'], axis=1)"
   ]
  },
  {
   "cell_type": "code",
   "execution_count": 39,
   "id": "1fb05439",
   "metadata": {},
   "outputs": [
    {
     "name": "stdout",
     "output_type": "stream",
     "text": [
      "<class 'pandas.core.frame.DataFrame'>\n",
      "RangeIndex: 105549 entries, 0 to 105548\n",
      "Data columns (total 17 columns):\n",
      " #   Column                        Non-Null Count   Dtype  \n",
      "---  ------                        --------------   -----  \n",
      " 0   Loan Status                   105549 non-null  float64\n",
      " 1   Current Loan Amount           105549 non-null  int64  \n",
      " 2   Term                          105549 non-null  float64\n",
      " 3   Credit Score                  105549 non-null  float64\n",
      " 4   Years in current job          105549 non-null  float64\n",
      " 5   Home Ownership                105549 non-null  float64\n",
      " 6   Annual Income                 105549 non-null  float64\n",
      " 7   Purpose                       105549 non-null  float64\n",
      " 8   Monthly Debt                  105549 non-null  float64\n",
      " 9   Years of Credit History       105549 non-null  float64\n",
      " 10  Months since last delinquent  105549 non-null  float64\n",
      " 11  Number of Open Accounts       105549 non-null  int64  \n",
      " 12  Number of Credit Problems     105549 non-null  int64  \n",
      " 13  Current Credit Balance        105549 non-null  int64  \n",
      " 14  Maximum Open Credit           105549 non-null  int64  \n",
      " 15  Bankruptcies                  105549 non-null  float64\n",
      " 16  Tax Liens                     105549 non-null  float64\n",
      "dtypes: float64(12), int64(5)\n",
      "memory usage: 13.7 MB\n"
     ]
    }
   ],
   "source": [
    "# check the data types and other information\n",
    "# After enconding and pre-processing\n",
    "data.info()"
   ]
  },
  {
   "cell_type": "code",
   "execution_count": 40,
   "id": "efa7ba03",
   "metadata": {},
   "outputs": [],
   "source": [
    "# Get all the features into the X variable and target \n",
    "# column in the y variable.\n",
    "X = data[['Current Loan Amount', 'Term', 'Credit Score', 'Years in current job',\n",
    "             'Years in current job', 'Home Ownership', 'Annual Income', \n",
    "            'Purpose', 'Monthly Debt', 'Years of Credit History', \n",
    "          'Months since last delinquent', 'Number of Open Accounts',\n",
    "         'Number of Credit Problems', 'Current Credit Balance', \n",
    "          'Maximum Open Credit', 'Bankruptcies', 'Tax Liens']]\n",
    "\n",
    "Y = data[['Loan Status']]\n"
   ]
  },
  {
   "cell_type": "code",
   "execution_count": 41,
   "id": "c164c079",
   "metadata": {},
   "outputs": [],
   "source": [
    "# Convert the features into standard form.\n",
    "\n",
    "from sklearn.preprocessing import StandardScaler\n",
    "scaler = StandardScaler()\n",
    "X_scale = scaler.fit_transform(X)"
   ]
  },
  {
   "cell_type": "code",
   "execution_count": 42,
   "id": "9370638a",
   "metadata": {},
   "outputs": [],
   "source": [
    "# Split the dataset into 80:20 ratios: \n",
    "# 80 for training and 20 for testing\n",
    "#split the data 80% training and 20% testing\n",
    "X_train, X_test, y_train, y_test = train_test_split(X_scale, Y, test_size=0.2, random_state = 4)\n"
   ]
  },
  {
   "cell_type": "code",
   "execution_count": 43,
   "id": "77c39a7e",
   "metadata": {},
   "outputs": [
    {
     "name": "stdout",
     "output_type": "stream",
     "text": [
      "Requirement already satisfied: imbalanced-learn in /home/ec2-user/anaconda3/envs/python3/lib/python3.6/site-packages (0.8.1)\n",
      "Requirement already satisfied: scipy>=0.19.1 in /home/ec2-user/anaconda3/envs/python3/lib/python3.6/site-packages (from imbalanced-learn) (1.5.4)\n",
      "Requirement already satisfied: scikit-learn>=0.24 in /home/ec2-user/anaconda3/envs/python3/lib/python3.6/site-packages (from imbalanced-learn) (0.24.1)\n",
      "Requirement already satisfied: joblib>=0.11 in /home/ec2-user/anaconda3/envs/python3/lib/python3.6/site-packages (from imbalanced-learn) (1.0.1)\n",
      "Requirement already satisfied: numpy>=1.13.3 in /home/ec2-user/anaconda3/envs/python3/lib/python3.6/site-packages (from imbalanced-learn) (1.19.5)\n",
      "Requirement already satisfied: threadpoolctl>=2.0.0 in /home/ec2-user/anaconda3/envs/python3/lib/python3.6/site-packages (from scikit-learn>=0.24->imbalanced-learn) (2.1.0)\n"
     ]
    }
   ],
   "source": [
    "!pip install imbalanced-learn"
   ]
  },
  {
   "cell_type": "code",
   "execution_count": 47,
   "id": "1e4c3f59",
   "metadata": {},
   "outputs": [],
   "source": [
    "# import and initialize the random forest classifier \n",
    "# and fit the model on training dataset\n",
    "\n",
    "from sklearn.ensemble import RandomForestClassifier\n",
    "import joblib\n",
    "from imblearn.over_sampling import SMOTE\n",
    "from imblearn.pipeline import Pipeline\n",
    "from sklearn.metrics import confusion_matrix, precision_score, recall_score, f1_score, accuracy_score, roc_auc_score"
   ]
  },
  {
   "cell_type": "code",
   "execution_count": 45,
   "id": "265a2568",
   "metadata": {},
   "outputs": [
    {
     "name": "stderr",
     "output_type": "stream",
     "text": [
      "/home/ec2-user/anaconda3/envs/python3/lib/python3.6/site-packages/ipykernel/__main__.py:2: DataConversionWarning: A column-vector y was passed when a 1d array was expected. Please change the shape of y to (n_samples,), for example using ravel().\n",
      "  from ipykernel import kernelapp as app\n"
     ]
    },
    {
     "data": {
      "text/plain": [
       "RandomForestClassifier(random_state=0)"
      ]
     },
     "execution_count": 45,
     "metadata": {},
     "output_type": "execute_result"
    }
   ],
   "source": [
    "rfc = RandomForestClassifier(n_estimators=100, random_state=0)\n",
    "rfc.fit(X_train, y_train)"
   ]
  },
  {
   "cell_type": "code",
   "execution_count": 95,
   "id": "d7b147cb",
   "metadata": {},
   "outputs": [
    {
     "name": "stdout",
     "output_type": "stream",
     "text": [
      "Parameters currently in use:\n",
      "\n",
      "{'bootstrap': True,\n",
      " 'ccp_alpha': 0.0,\n",
      " 'class_weight': None,\n",
      " 'criterion': 'gini',\n",
      " 'max_depth': None,\n",
      " 'max_features': 'auto',\n",
      " 'max_leaf_nodes': None,\n",
      " 'max_samples': None,\n",
      " 'min_impurity_decrease': 0.0,\n",
      " 'min_impurity_split': None,\n",
      " 'min_samples_leaf': 1,\n",
      " 'min_samples_split': 2,\n",
      " 'min_weight_fraction_leaf': 0.0,\n",
      " 'n_estimators': 100,\n",
      " 'n_jobs': None,\n",
      " 'oob_score': False,\n",
      " 'random_state': 0,\n",
      " 'verbose': 0,\n",
      " 'warm_start': False}\n"
     ]
    }
   ],
   "source": [
    "from pprint import pprint\n",
    "# Look at parameters used by our current forest\n",
    "print('Parameters currently in use:\\n')\n",
    "pprint(rfc.get_params())"
   ]
  },
  {
   "cell_type": "code",
   "execution_count": 48,
   "id": "4fece20d",
   "metadata": {},
   "outputs": [
    {
     "data": {
      "text/plain": [
       "['./random_forest.joblib']"
      ]
     },
     "execution_count": 48,
     "metadata": {},
     "output_type": "execute_result"
    }
   ],
   "source": [
    "# Analyze Feature Importance\n",
    "feature_imp = pd.Series(rfc.feature_importances_, index=X.columns).sort_values(ascending=False)\n",
    "feature_imp\n",
    "# save the trained model\n",
    "joblib.dump(rfc, \"./random_forest.joblib\")"
   ]
  },
  {
   "cell_type": "code",
   "execution_count": 51,
   "id": "9983a068",
   "metadata": {},
   "outputs": [
    {
     "name": "stdout",
     "output_type": "stream",
     "text": [
      "y_pred =  [0. 0. 0. ... 0. 0. 0.]\n"
     ]
    }
   ],
   "source": [
    "# loadthe trained random fores model\n",
    "loaded_rf = joblib.load(\"./random_forest.joblib\")\n",
    "y_pred_from_loaded_rf = loaded_rf.predict(X_test)\n",
    "print(\"y_pred = \", y_pred_from_loaded_rf)"
   ]
  },
  {
   "cell_type": "code",
   "execution_count": 61,
   "id": "3175dd96",
   "metadata": {},
   "outputs": [
    {
     "name": "stdout",
     "output_type": "stream",
     "text": [
      "-------------------------TEST SCORES-----------------------\n",
      "Recall: 22.9843\n",
      "Precision: 86.2835\n",
      "F1-Score: 36.2992\n",
      "Accuracy score: 81.279\n",
      "AUC Score: 60.94\n"
     ]
    }
   ],
   "source": [
    "# the accuracy scores\n",
    "\n",
    "print(\"-------------------------TEST SCORES-----------------------\") \n",
    "print(f\"Recall: { round(recall_score(y_test, y_pred_from_loaded_rf )*100, 4) }\")\n",
    "print(f\"Precision: { round(precision_score(y_test, y_pred_from_loaded_rf )*100, 4) }\")\n",
    "print(f\"F1-Score: { round(f1_score(y_test, y_pred_from_loaded_rf )*100, 4) }\")\n",
    "print(f\"Accuracy score: { round(accuracy_score(y_test, y_pred_from_loaded_rf )*100, 4) }\")\n",
    "print(f\"AUC Score: { round(roc_auc_score(y_test, y_pred_from_loaded_rf )*100, 4) }\")"
   ]
  },
  {
   "cell_type": "code",
   "execution_count": 52,
   "id": "063462e0",
   "metadata": {},
   "outputs": [
    {
     "data": {
      "image/png": "[encoded data removed]",
      "text/plain": [
       "<Figure size 1080x504 with 1 Axes>"
      ]
     },
     "metadata": {
      "needs_background": "light"
     },
     "output_type": "display_data"
    }
   ],
   "source": [
    "# Plot the Feature importance with scroes\n",
    "f, ax = plt.subplots(figsize=(15, 7))\n",
    "ax = sns.barplot(x=feature_imp, y=feature_imp.index)\n",
    "ax.set_title(\"Visualize feature scores of the features\")\n",
    "ax.set_yticklabels(feature_imp.index)\n",
    "ax.set_xlabel(\"Feature importance score\")\n",
    "ax.set_ylabel(\"Features\")\n",
    "plt.show()"
   ]
  },
  {
   "cell_type": "code",
   "execution_count": 53,
   "id": "096e7837",
   "metadata": {},
   "outputs": [],
   "source": [
    "# The feature \"Credit Score\" has the longest bar \n",
    "# that shows it is the most important feature in case \n",
    "# of \"Loan Status\" or \"defaults\"\n",
    "# The next features that are also important are in this order:\n",
    "# 2 - 'Current Loan Amount'\n",
    "# 3 - 'Maximum Open Credit'\n",
    "# 4 - 'Current Credit Balance'\n",
    "# \n",
    "# The least important fearures are 'Home Wownership' and 'Purpose'"
   ]
  },
  {
   "cell_type": "code",
   "execution_count": 54,
   "id": "8cbc283e",
   "metadata": {},
   "outputs": [
    {
     "name": "stderr",
     "output_type": "stream",
     "text": [
      "/home/ec2-user/anaconda3/envs/python3/lib/python3.6/site-packages/imblearn/pipeline.py:266: DataConversionWarning: A column-vector y was passed when a 1d array was expected. Please change the shape of y to (n_samples,), for example using ravel().\n",
      "  self._final_estimator.fit(Xt, yt, **fit_params_last_step)\n"
     ]
    },
    {
     "data": {
      "text/plain": [
       "Pipeline(steps=[('smote', SMOTE(random_state=9)),\n",
       "                ['classifier', RandomForestClassifier(random_state=100)]])"
      ]
     },
     "execution_count": 54,
     "metadata": {},
     "output_type": "execute_result"
    }
   ],
   "source": [
    "# Another training of Random Forest\n",
    "rf_clf = RandomForestClassifier(criterion='gini', bootstrap=True, random_state=100)\n",
    "smote_sampler = SMOTE(random_state=9)\n",
    "pipeline = Pipeline(steps = [['smote', smote_sampler],\n",
    "                             ['classifier', rf_clf]])\n",
    "pipeline.fit(X_train, y_train)"
   ]
  },
  {
   "cell_type": "code",
   "execution_count": 94,
   "id": "dcefdc4e",
   "metadata": {},
   "outputs": [
    {
     "name": "stdout",
     "output_type": "stream",
     "text": [
      "Parameters currently in use:\n",
      "\n",
      "{'bootstrap': True,\n",
      " 'ccp_alpha': 0.0,\n",
      " 'class_weight': None,\n",
      " 'criterion': 'gini',\n",
      " 'max_depth': None,\n",
      " 'max_features': 'auto',\n",
      " 'max_leaf_nodes': None,\n",
      " 'max_samples': None,\n",
      " 'min_impurity_decrease': 0.0,\n",
      " 'min_impurity_split': None,\n",
      " 'min_samples_leaf': 1,\n",
      " 'min_samples_split': 2,\n",
      " 'min_weight_fraction_leaf': 0.0,\n",
      " 'n_estimators': 100,\n",
      " 'n_jobs': None,\n",
      " 'oob_score': False,\n",
      " 'random_state': 100,\n",
      " 'verbose': 0,\n",
      " 'warm_start': False}\n"
     ]
    }
   ],
   "source": [
    "from pprint import pprint\n",
    "# Look at parameters used by our current forest\n",
    "print('Parameters currently in use:\\n')\n",
    "pprint(rf_clf.get_params())"
   ]
  },
  {
   "cell_type": "code",
   "execution_count": 55,
   "id": "c908fe0c",
   "metadata": {},
   "outputs": [
    {
     "data": {
      "text/plain": [
       "['./random_forest_rf_clf.joblib']"
      ]
     },
     "execution_count": 55,
     "metadata": {},
     "output_type": "execute_result"
    }
   ],
   "source": [
    "# save the trained model\n",
    "joblib.dump(rf_clf, \"./random_forest_rf_clf.joblib\")"
   ]
  },
  {
   "cell_type": "code",
   "execution_count": 56,
   "id": "b427f7b0",
   "metadata": {},
   "outputs": [],
   "source": [
    "# Predictions on the testing dataset\n",
    "y_pred = pipeline.predict(X_test)"
   ]
  },
  {
   "cell_type": "code",
   "execution_count": 57,
   "id": "9687ab7a",
   "metadata": {},
   "outputs": [
    {
     "name": "stdout",
     "output_type": "stream",
     "text": [
      "y_pred =  [0. 0. 0. ... 1. 0. 0.]\n"
     ]
    }
   ],
   "source": [
    "print(\"y_pred = \", y_pred)"
   ]
  },
  {
   "cell_type": "code",
   "execution_count": 58,
   "id": "8ce91c96",
   "metadata": {},
   "outputs": [
    {
     "name": "stdout",
     "output_type": "stream",
     "text": [
      "-------------------------TEST SCORES-----------------------\n",
      "Recall: 36.9259\n",
      "Precision: 58.3925\n",
      "F1-Score: 45.242\n",
      "Accuracy score: 79.2563\n",
      "AUC Score: 64.4873\n"
     ]
    }
   ],
   "source": [
    "# the accuracy scores\n",
    "\n",
    "print(\"-------------------------TEST SCORES-----------------------\") \n",
    "print(f\"Recall: { round(recall_score(y_test, y_pred)*100, 4) }\")\n",
    "print(f\"Precision: { round(precision_score(y_test, y_pred)*100, 4) }\")\n",
    "print(f\"F1-Score: { round(f1_score(y_test, y_pred)*100, 4) }\")\n",
    "print(f\"Accuracy score: { round(accuracy_score(y_test, y_pred)*100, 4) }\")\n",
    "print(f\"AUC Score: { round(roc_auc_score(y_test, y_pred)*100, 4) }\")\n"
   ]
  },
  {
   "cell_type": "code",
   "execution_count": 59,
   "id": "fc5b7ae3",
   "metadata": {},
   "outputs": [
    {
     "name": "stdout",
     "output_type": "stream",
     "text": [
      "y_pred_rf_clf =  [0. 0. 0. ... 1. 0. 0.]\n"
     ]
    }
   ],
   "source": [
    "# load the trained random fores model\n",
    "loaded_rf = joblib.load(\"./random_forest_rf_clf.joblib\")\n",
    "y_pred_from_loaded_rf_clf = loaded_rf.predict(X_test)\n",
    "print(\"y_pred_rf_clf = \", y_pred_from_loaded_rf_clf)"
   ]
  },
  {
   "cell_type": "code",
   "execution_count": 62,
   "id": "41dca218",
   "metadata": {},
   "outputs": [
    {
     "data": {
      "text/html": [
       "<div>\n",
       "<style scoped>\n",
       "    .dataframe tbody tr th:only-of-type {\n",
       "        vertical-align: middle;\n",
       "    }\n",
       "\n",
       "    .dataframe tbody tr th {\n",
       "        vertical-align: top;\n",
       "    }\n",
       "\n",
       "    .dataframe thead th {\n",
       "        text-align: right;\n",
       "    }\n",
       "</style>\n",
       "<table border=\"1\" class=\"dataframe\">\n",
       "  <thead>\n",
       "    <tr style=\"text-align: right;\">\n",
       "      <th></th>\n",
       "      <th>Loan ID</th>\n",
       "      <th>Customer ID</th>\n",
       "      <th>Loan Status</th>\n",
       "      <th>Current Loan Amount</th>\n",
       "      <th>Term</th>\n",
       "      <th>Credit Score</th>\n",
       "      <th>Years in current job</th>\n",
       "      <th>Home Ownership</th>\n",
       "      <th>Annual Income</th>\n",
       "      <th>Purpose</th>\n",
       "      <th>Monthly Debt</th>\n",
       "      <th>Years of Credit History</th>\n",
       "      <th>Months since last delinquent</th>\n",
       "      <th>Number of Open Accounts</th>\n",
       "      <th>Number of Credit Problems</th>\n",
       "      <th>Current Credit Balance</th>\n",
       "      <th>Maximum Open Credit</th>\n",
       "      <th>Bankruptcies</th>\n",
       "      <th>Tax Liens</th>\n",
       "    </tr>\n",
       "  </thead>\n",
       "  <tbody>\n",
       "    <tr>\n",
       "      <th>0</th>\n",
       "      <td>6cf51492-02a2-423e-b93d-676f05b9ad53</td>\n",
       "      <td>7c202b37-2add-44e8-9aea-d5b119aea935</td>\n",
       "      <td>Charged Off</td>\n",
       "      <td>12232</td>\n",
       "      <td>Short Term</td>\n",
       "      <td>7280</td>\n",
       "      <td>&lt; 1 year</td>\n",
       "      <td>Rent</td>\n",
       "      <td>46643</td>\n",
       "      <td>Debt Consolidation</td>\n",
       "      <td>777.39</td>\n",
       "      <td>18.0</td>\n",
       "      <td>10.0</td>\n",
       "      <td>12</td>\n",
       "      <td>0</td>\n",
       "      <td>6762</td>\n",
       "      <td>7946</td>\n",
       "      <td>0.0</td>\n",
       "      <td>0</td>\n",
       "    </tr>\n",
       "    <tr>\n",
       "      <th>1</th>\n",
       "      <td>552e7ade-4292-4354-9ff9-c48031697d72</td>\n",
       "      <td>e7217b0a-07ac-47dd-b379-577b5a35b7c6</td>\n",
       "      <td>Charged Off</td>\n",
       "      <td>25014</td>\n",
       "      <td>Long Term</td>\n",
       "      <td>7330</td>\n",
       "      <td>10+ years</td>\n",
       "      <td>Home Mortgage</td>\n",
       "      <td>81099</td>\n",
       "      <td>Debt Consolidation</td>\n",
       "      <td>892.09</td>\n",
       "      <td>26.7</td>\n",
       "      <td>NaN</td>\n",
       "      <td>14</td>\n",
       "      <td>0</td>\n",
       "      <td>35706</td>\n",
       "      <td>77961</td>\n",
       "      <td>0.0</td>\n",
       "      <td>0</td>\n",
       "    </tr>\n",
       "    <tr>\n",
       "      <th>2</th>\n",
       "      <td>9b5e32b3-8d76-4801-afc8-d729d5a2e6b9</td>\n",
       "      <td>0a62fc41-16c8-40b5-92ff-9e4b763ce714</td>\n",
       "      <td>Charged Off</td>\n",
       "      <td>16117</td>\n",
       "      <td>Short Term</td>\n",
       "      <td>7240</td>\n",
       "      <td>9 years</td>\n",
       "      <td>Home Mortgage</td>\n",
       "      <td>60438</td>\n",
       "      <td>Home Improvements</td>\n",
       "      <td>1,244.02</td>\n",
       "      <td>16.7</td>\n",
       "      <td>32.0</td>\n",
       "      <td>11</td>\n",
       "      <td>1</td>\n",
       "      <td>11275</td>\n",
       "      <td>14815</td>\n",
       "      <td>1.0</td>\n",
       "      <td>0</td>\n",
       "    </tr>\n",
       "    <tr>\n",
       "      <th>3</th>\n",
       "      <td>1450910f-9495-4fc9-afaf-9bdf4b9821df</td>\n",
       "      <td>70c26012-bba5-42c0-8dcb-75295ada31bb</td>\n",
       "      <td>Charged Off</td>\n",
       "      <td>9789</td>\n",
       "      <td>Long Term</td>\n",
       "      <td>6860</td>\n",
       "      <td>10+ years</td>\n",
       "      <td>Home Mortgage</td>\n",
       "      <td>47003</td>\n",
       "      <td>Home Improvements</td>\n",
       "      <td>503.71</td>\n",
       "      <td>16.7</td>\n",
       "      <td>25.0</td>\n",
       "      <td>13</td>\n",
       "      <td>1</td>\n",
       "      <td>16913</td>\n",
       "      <td>19553</td>\n",
       "      <td>1.0</td>\n",
       "      <td>0</td>\n",
       "    </tr>\n",
       "    <tr>\n",
       "      <th>4</th>\n",
       "      <td>7e9f6759-6a13-48ef-adfa-ef9fbcfcfcc8</td>\n",
       "      <td>05301ee5-29ec-48b6-b3e5-0813ea25d684</td>\n",
       "      <td>Charged Off</td>\n",
       "      <td>11911</td>\n",
       "      <td>Short Term</td>\n",
       "      <td>7420</td>\n",
       "      <td>2 years</td>\n",
       "      <td>Home Mortgage</td>\n",
       "      <td>70475</td>\n",
       "      <td>other</td>\n",
       "      <td>886.81</td>\n",
       "      <td>17.7</td>\n",
       "      <td>NaN</td>\n",
       "      <td>13</td>\n",
       "      <td>0</td>\n",
       "      <td>28212</td>\n",
       "      <td>59897</td>\n",
       "      <td>0.0</td>\n",
       "      <td>0</td>\n",
       "    </tr>\n",
       "  </tbody>\n",
       "</table>\n",
       "</div>"
      ],
      "text/plain": [
       "                                Loan ID                           Customer ID  \\\n",
       "0  6cf51492-02a2-423e-b93d-676f05b9ad53  7c202b37-2add-44e8-9aea-d5b119aea935   \n",
       "1  552e7ade-4292-4354-9ff9-c48031697d72  e7217b0a-07ac-47dd-b379-577b5a35b7c6   \n",
       "2  9b5e32b3-8d76-4801-afc8-d729d5a2e6b9  0a62fc41-16c8-40b5-92ff-9e4b763ce714   \n",
       "3  1450910f-9495-4fc9-afaf-9bdf4b9821df  70c26012-bba5-42c0-8dcb-75295ada31bb   \n",
       "4  7e9f6759-6a13-48ef-adfa-ef9fbcfcfcc8  05301ee5-29ec-48b6-b3e5-0813ea25d684   \n",
       "\n",
       "   Loan Status  Current Loan Amount        Term  Credit Score  \\\n",
       "0  Charged Off                12232  Short Term          7280   \n",
       "1  Charged Off                25014   Long Term          7330   \n",
       "2  Charged Off                16117  Short Term          7240   \n",
       "3  Charged Off                 9789   Long Term          6860   \n",
       "4  Charged Off                11911  Short Term          7420   \n",
       "\n",
       "  Years in current job Home Ownership  Annual Income             Purpose  \\\n",
       "0             < 1 year           Rent          46643  Debt Consolidation   \n",
       "1            10+ years  Home Mortgage          81099  Debt Consolidation   \n",
       "2              9 years  Home Mortgage          60438   Home Improvements   \n",
       "3            10+ years  Home Mortgage          47003   Home Improvements   \n",
       "4              2 years  Home Mortgage          70475               other   \n",
       "\n",
       "  Monthly Debt  Years of Credit History  Months since last delinquent  \\\n",
       "0       777.39                     18.0                          10.0   \n",
       "1       892.09                     26.7                           NaN   \n",
       "2     1,244.02                     16.7                          32.0   \n",
       "3       503.71                     16.7                          25.0   \n",
       "4       886.81                     17.7                           NaN   \n",
       "\n",
       "   Number of Open Accounts  Number of Credit Problems  Current Credit Balance  \\\n",
       "0                       12                          0                    6762   \n",
       "1                       14                          0                   35706   \n",
       "2                       11                          1                   11275   \n",
       "3                       13                          1                   16913   \n",
       "4                       13                          0                   28212   \n",
       "\n",
       "   Maximum Open Credit  Bankruptcies  Tax Liens  \n",
       "0                 7946           0.0          0  \n",
       "1                77961           0.0          0  \n",
       "2                14815           1.0          0  \n",
       "3                19553           1.0          0  \n",
       "4                59897           0.0          0  "
      ]
     },
     "execution_count": 62,
     "metadata": {},
     "output_type": "execute_result"
    }
   ],
   "source": [
    "# This part of the code is to read from a file and test\n",
    "#######################################################\n",
    "\n",
    "# Read the .csv data set\n",
    "data_test = pd.read_csv(\"./input_data/Loan_Granting_Binary_Classification_test.csv\")\n",
    "#get the first few rows of the dataset \n",
    "data_test.head()"
   ]
  },
  {
   "cell_type": "code",
   "execution_count": 63,
   "id": "82d9d109",
   "metadata": {},
   "outputs": [
    {
     "name": "stdout",
     "output_type": "stream",
     "text": [
      "Rows: 542\n",
      "Columns: 19\n"
     ]
    }
   ],
   "source": [
    "# Understand the shape of the data\n",
    "rows, columns = data_test.shape\n",
    "print('Rows:', rows)\n",
    "print('Columns:', columns)"
   ]
  },
  {
   "cell_type": "code",
   "execution_count": 64,
   "id": "5c61239c",
   "metadata": {},
   "outputs": [
    {
     "name": "stdout",
     "output_type": "stream",
     "text": [
      "<class 'pandas.core.frame.DataFrame'>\n",
      "RangeIndex: 542 entries, 0 to 541\n",
      "Data columns (total 19 columns):\n",
      " #   Column                        Non-Null Count  Dtype  \n",
      "---  ------                        --------------  -----  \n",
      " 0   Loan ID                       542 non-null    object \n",
      " 1   Customer ID                   542 non-null    object \n",
      " 2   Loan Status                   542 non-null    object \n",
      " 3   Current Loan Amount           542 non-null    int64  \n",
      " 4   Term                          542 non-null    object \n",
      " 5   Credit Score                  542 non-null    int64  \n",
      " 6   Years in current job          519 non-null    object \n",
      " 7   Home Ownership                542 non-null    object \n",
      " 8   Annual Income                 542 non-null    int64  \n",
      " 9   Purpose                       542 non-null    object \n",
      " 10  Monthly Debt                  542 non-null    object \n",
      " 11  Years of Credit History       542 non-null    float64\n",
      " 12  Months since last delinquent  245 non-null    float64\n",
      " 13  Number of Open Accounts       542 non-null    int64  \n",
      " 14  Number of Credit Problems     542 non-null    int64  \n",
      " 15  Current Credit Balance        542 non-null    int64  \n",
      " 16  Maximum Open Credit           542 non-null    int64  \n",
      " 17  Bankruptcies                  541 non-null    float64\n",
      " 18  Tax Liens                     542 non-null    int64  \n",
      "dtypes: float64(3), int64(8), object(8)\n",
      "memory usage: 80.6+ KB\n"
     ]
    }
   ],
   "source": [
    "# check the data types and other information\n",
    "# Before enconding and pre-processing\n",
    "data_test.info()"
   ]
  },
  {
   "cell_type": "code",
   "execution_count": 65,
   "id": "92619624",
   "metadata": {},
   "outputs": [
    {
     "data": {
      "text/plain": [
       "Loan ID                           0\n",
       "Customer ID                       0\n",
       "Loan Status                       0\n",
       "Current Loan Amount               0\n",
       "Term                              0\n",
       "Credit Score                      0\n",
       "Years in current job             23\n",
       "Home Ownership                    0\n",
       "Annual Income                     0\n",
       "Purpose                           0\n",
       "Monthly Debt                      0\n",
       "Years of Credit History           0\n",
       "Months since last delinquent    297\n",
       "Number of Open Accounts           0\n",
       "Number of Credit Problems         0\n",
       "Current Credit Balance            0\n",
       "Maximum Open Credit               0\n",
       "Bankruptcies                      1\n",
       "Tax Liens                         0\n",
       "dtype: int64"
      ]
     },
     "execution_count": 65,
     "metadata": {},
     "output_type": "execute_result"
    }
   ],
   "source": [
    "# Let's check if there are any missing values in the data\n",
    "# after the data pre-processing\n",
    "data_test.isnull().sum()"
   ]
  },
  {
   "cell_type": "code",
   "execution_count": 70,
   "id": "cf52b7cf",
   "metadata": {},
   "outputs": [
    {
     "name": "stdout",
     "output_type": "stream",
     "text": [
      "onehot_encoder for Home Owenership = 0      0.0\n",
      "1      0.0\n",
      "2      0.0\n",
      "3      0.0\n",
      "4      0.0\n",
      "      ... \n",
      "537    0.0\n",
      "538    0.0\n",
      "539    0.0\n",
      "540    0.0\n",
      "541    0.0\n",
      "Name: Home Ownership, Length: 542, dtype: float64\n"
     ]
    }
   ],
   "source": [
    "onehot_encoder = OneHotEncoder(sparse = False)\n",
    "data_test['Home Ownership'] = onehot_encoder.fit_transform(data_test['Home Ownership'].values.reshape(-1, 1) )\n",
    "print(\"onehot_encoder for Home Owenership =\",data_test['Home Ownership'])\n"
   ]
  },
  {
   "cell_type": "code",
   "execution_count": 71,
   "id": "6030f3cd",
   "metadata": {},
   "outputs": [
    {
     "name": "stdout",
     "output_type": "stream",
     "text": [
      "onehot_encoder for Purpose = 0      0.0\n",
      "1      0.0\n",
      "2      0.0\n",
      "3      0.0\n",
      "4      0.0\n",
      "      ... \n",
      "537    0.0\n",
      "538    0.0\n",
      "539    0.0\n",
      "540    0.0\n",
      "541    0.0\n",
      "Name: Purpose, Length: 542, dtype: float64\n"
     ]
    }
   ],
   "source": [
    "onehot_encoder = OneHotEncoder(sparse = False)\n",
    "data_test['Purpose'] = onehot_encoder.fit_transform(data_test['Purpose'].values.reshape(-1, 1) )\n",
    "print(\"onehot_encoder for Purpose =\",data_test['Purpose'])"
   ]
  },
  {
   "cell_type": "code",
   "execution_count": 72,
   "id": "6c8c99d5",
   "metadata": {},
   "outputs": [
    {
     "name": "stdout",
     "output_type": "stream",
     "text": [
      "onehot_encoder for Loan Status = 0      1.0\n",
      "1      1.0\n",
      "2      1.0\n",
      "3      1.0\n",
      "4      1.0\n",
      "      ... \n",
      "537    1.0\n",
      "538    1.0\n",
      "539    1.0\n",
      "540    1.0\n",
      "541    1.0\n",
      "Name: Loan Status, Length: 542, dtype: float64\n"
     ]
    }
   ],
   "source": [
    "onehot_encoder = OneHotEncoder(sparse = False)\n",
    "data_test['Loan Status'] = onehot_encoder.fit_transform(data_test['Loan Status'].values.reshape(-1, 1) )\n",
    "print(\"onehot_encoder for Loan Status =\",data_test['Loan Status'])"
   ]
  },
  {
   "cell_type": "code",
   "execution_count": 73,
   "id": "3b757c7c",
   "metadata": {},
   "outputs": [
    {
     "name": "stdout",
     "output_type": "stream",
     "text": [
      "onehot_encoder for Monthly Debt = 0      0.0\n",
      "1      0.0\n",
      "2      0.0\n",
      "3      0.0\n",
      "4      0.0\n",
      "      ... \n",
      "537    0.0\n",
      "538    0.0\n",
      "539    0.0\n",
      "540    0.0\n",
      "541    0.0\n",
      "Name: Monthly Debt, Length: 542, dtype: float64\n"
     ]
    }
   ],
   "source": [
    "onehot_encoder = OneHotEncoder(sparse = False)\n",
    "data_test['Monthly Debt'] = onehot_encoder.fit_transform(data_test['Monthly Debt'].values.reshape(-1, 1) )\n",
    "print(\"onehot_encoder for Monthly Debt =\",data_test['Monthly Debt'])"
   ]
  },
  {
   "cell_type": "code",
   "execution_count": 77,
   "id": "d1081793",
   "metadata": {},
   "outputs": [
    {
     "name": "stdout",
     "output_type": "stream",
     "text": [
      "Years in current job =  0       0.0\n",
      "1      10.0\n",
      "2       9.0\n",
      "3      10.0\n",
      "4       2.0\n",
      "       ... \n",
      "537     5.0\n",
      "538     9.0\n",
      "539    10.0\n",
      "540     6.0\n",
      "541     2.0\n",
      "Name: Years in current job, Length: 542, dtype: float64\n"
     ]
    }
   ],
   "source": [
    "# Encoding of Categorical features\n",
    "# “years_in_current_job” we just trim \n",
    "# the ‘year’ part and leave the years only\n",
    "data_test[\"Years in current job\"] = data_test[\"Years in current job\"].replace({'-1': -1, '10+ years': 10, '8 years': 8, '6 years': 6, \n",
    "                                                                              '7 years': 7, '5 years': 5, '1 year': 1, '< 1 year': 0, \n",
    "                                                                              '4 years': 4, '3 years': 3, '2 years': 2, '9 years': 9})\n",
    "print(\"Years in current job = \",data_test[\"Years in current job\"] )"
   ]
  },
  {
   "cell_type": "code",
   "execution_count": 85,
   "id": "2bdd89a8",
   "metadata": {},
   "outputs": [
    {
     "name": "stdout",
     "output_type": "stream",
     "text": [
      "onehot_encoder for Term = 0      0.0\n",
      "1      1.0\n",
      "2      0.0\n",
      "3      1.0\n",
      "4      0.0\n",
      "      ... \n",
      "537    0.0\n",
      "538    0.0\n",
      "539    1.0\n",
      "540    0.0\n",
      "541    1.0\n",
      "Name: Term, Length: 542, dtype: float64\n"
     ]
    }
   ],
   "source": [
    "onehot_encoder = OneHotEncoder(sparse = False)\n",
    "data_test['Term'] = onehot_encoder.fit_transform(data_test['Term'].values.reshape(-1, 1) )\n",
    "print(\"onehot_encoder for Term =\",data_test['Term'])"
   ]
  },
  {
   "cell_type": "code",
   "execution_count": 88,
   "id": "3775697f",
   "metadata": {},
   "outputs": [
    {
     "name": "stdout",
     "output_type": "stream",
     "text": [
      "<class 'pandas.core.frame.DataFrame'>\n",
      "RangeIndex: 542 entries, 0 to 541\n",
      "Data columns (total 17 columns):\n",
      " #   Column                        Non-Null Count  Dtype  \n",
      "---  ------                        --------------  -----  \n",
      " 0   Loan Status                   542 non-null    float64\n",
      " 1   Current Loan Amount           542 non-null    int64  \n",
      " 2   Term                          542 non-null    float64\n",
      " 3   Credit Score                  542 non-null    int64  \n",
      " 4   Years in current job          542 non-null    float64\n",
      " 5   Home Ownership                542 non-null    float64\n",
      " 6   Annual Income                 542 non-null    int64  \n",
      " 7   Purpose                       542 non-null    float64\n",
      " 8   Monthly Debt                  542 non-null    float64\n",
      " 9   Years of Credit History       542 non-null    float64\n",
      " 10  Months since last delinquent  542 non-null    float64\n",
      " 11  Number of Open Accounts       542 non-null    int64  \n",
      " 12  Number of Credit Problems     542 non-null    int64  \n",
      " 13  Current Credit Balance        542 non-null    int64  \n",
      " 14  Maximum Open Credit           542 non-null    int64  \n",
      " 15  Bankruptcies                  542 non-null    float64\n",
      " 16  Tax Liens                     542 non-null    int64  \n",
      "dtypes: float64(9), int64(8)\n",
      "memory usage: 72.1 KB\n"
     ]
    }
   ],
   "source": [
    "# check the data types and other information\n",
    "# After enconding and pre-processing\n",
    "data_test.info()"
   ]
  },
  {
   "cell_type": "code",
   "execution_count": 86,
   "id": "c0a1cccf",
   "metadata": {},
   "outputs": [],
   "source": [
    "# we can fill the null values with the mean value from theat feature\n",
    "data_test['Credit Score'].fillna(int(data_test['Credit Score'].mean()), inplace=True)\n",
    "data_test['Years in current job'].fillna(int(data_test['Years in current job'].mean()), inplace=True)\n",
    "data_test['Annual Income'].fillna(int(data_test['Annual Income'].mean()), inplace=True)\n",
    "data_test['Months since last delinquent'].fillna(int(data_test['Months since last delinquent'].mean()), inplace=True)\n",
    "data_test['Bankruptcies'].fillna(int(data_test['Bankruptcies'].mean()), inplace=True)\n",
    "data_test['Tax Liens'].fillna(int(data_test['Tax Liens'].mean()), inplace=True)\n",
    "data_test['Term'].fillna(int(data_test['Term'].mean()), inplace=True)\n"
   ]
  },
  {
   "cell_type": "code",
   "execution_count": 87,
   "id": "7e4b622e",
   "metadata": {},
   "outputs": [
    {
     "data": {
      "text/plain": [
       "Loan Status                     0\n",
       "Current Loan Amount             0\n",
       "Term                            0\n",
       "Credit Score                    0\n",
       "Years in current job            0\n",
       "Home Ownership                  0\n",
       "Annual Income                   0\n",
       "Purpose                         0\n",
       "Monthly Debt                    0\n",
       "Years of Credit History         0\n",
       "Months since last delinquent    0\n",
       "Number of Open Accounts         0\n",
       "Number of Credit Problems       0\n",
       "Current Credit Balance          0\n",
       "Maximum Open Credit             0\n",
       "Bankruptcies                    0\n",
       "Tax Liens                       0\n",
       "dtype: int64"
      ]
     },
     "execution_count": 87,
     "metadata": {},
     "output_type": "execute_result"
    }
   ],
   "source": [
    "# Let's check if there are any missing values in the data\n",
    "# after the data pre-processing\n",
    "data_test.isnull().sum()"
   ]
  },
  {
   "cell_type": "code",
   "execution_count": 81,
   "id": "00023d97",
   "metadata": {},
   "outputs": [],
   "source": [
    "# drop columns and features that are not needed such as 'Loan ID' and 'Customer ID'\n",
    "data_test= data_test.drop(labels=['Loan ID', 'Customer ID'], axis=1)"
   ]
  },
  {
   "cell_type": "code",
   "execution_count": 89,
   "id": "241c3bd9",
   "metadata": {},
   "outputs": [],
   "source": [
    "# Get all the features into the X variable and target \n",
    "# column in the y variable.\n",
    "X_test = data_test[['Current Loan Amount', 'Term', 'Credit Score', 'Years in current job',\n",
    "             'Years in current job', 'Home Ownership', 'Annual Income', \n",
    "            'Purpose', 'Monthly Debt', 'Years of Credit History', \n",
    "          'Months since last delinquent', 'Number of Open Accounts',\n",
    "         'Number of Credit Problems', 'Current Credit Balance', \n",
    "          'Maximum Open Credit', 'Bankruptcies', 'Tax Liens']]\n",
    "\n",
    "Y_test = data_test[['Loan Status']]"
   ]
  },
  {
   "cell_type": "code",
   "execution_count": 90,
   "id": "a11292fb",
   "metadata": {},
   "outputs": [
    {
     "name": "stdout",
     "output_type": "stream",
     "text": [
      "y_pred_rf_clf =  [1. 1. 1. 1. 1. 1. 1. 1. 1. 1. 1. 1. 1. 1. 1. 1. 1. 1. 1. 1. 1. 1. 1. 1.\n",
      " 1. 1. 1. 1. 1. 1. 1. 1. 1. 1. 1. 1. 1. 1. 1. 1. 1. 1. 1. 1. 1. 1. 1. 1.\n",
      " 1. 1. 1. 1. 1. 1. 1. 1. 1. 1. 1. 1. 1. 1. 1. 1. 1. 1. 1. 1. 1. 1. 1. 1.\n",
      " 1. 1. 1. 1. 1. 1. 1. 1. 1. 1. 1. 1. 1. 1. 1. 1. 1. 1. 1. 1. 1. 1. 1. 1.\n",
      " 1. 1. 1. 1. 1. 1. 1. 1. 1. 1. 1. 1. 1. 1. 1. 1. 1. 1. 1. 1. 1. 1. 1. 1.\n",
      " 1. 1. 1. 1. 1. 1. 1. 1. 1. 1. 1. 1. 1. 1. 1. 1. 1. 1. 1. 1. 1. 1. 1. 1.\n",
      " 1. 1. 1. 1. 1. 1. 1. 1. 1. 1. 1. 1. 1. 1. 1. 1. 1. 1. 1. 1. 1. 1. 1. 1.\n",
      " 1. 1. 1. 1. 1. 1. 1. 1. 1. 1. 1. 1. 1. 1. 1. 1. 1. 1. 1. 1. 1. 1. 1. 1.\n",
      " 1. 1. 1. 1. 1. 1. 1. 1. 1. 1. 1. 1. 1. 1. 1. 1. 1. 1. 1. 1. 1. 1. 1. 1.\n",
      " 1. 1. 1. 1. 1. 1. 1. 1. 1. 1. 1. 1. 1. 1. 1. 1. 1. 1. 1. 1. 1. 1. 1. 1.\n",
      " 1. 1. 1. 1. 1. 1. 1. 1. 1. 1. 1. 1. 1. 1. 1. 1. 1. 1. 1. 1. 1. 1. 1. 1.\n",
      " 1. 1. 1. 1. 1. 1. 1. 1. 1. 1. 1. 1. 1. 1. 1. 1. 1. 1. 1. 1. 1. 1. 1. 1.\n",
      " 1. 1. 1. 1. 1. 1. 1. 1. 1. 1. 1. 1. 1. 1. 1. 1. 1. 1. 1. 1. 1. 1. 1. 1.\n",
      " 1. 1. 1. 1. 1. 1. 1. 1. 1. 1. 1. 1. 1. 1. 1. 1. 1. 1. 1. 1. 1. 1. 1. 1.\n",
      " 1. 1. 1. 1. 1. 1. 1. 1. 1. 1. 1. 1. 1. 1. 1. 1. 1. 1. 1. 1. 1. 1. 1. 1.\n",
      " 1. 1. 1. 1. 1. 1. 1. 1. 1. 1. 1. 1. 1. 1. 1. 1. 1. 1. 1. 1. 1. 1. 1. 1.\n",
      " 1. 1. 1. 1. 1. 1. 1. 1. 1. 1. 1. 1. 1. 1. 1. 1. 1. 1. 1. 1. 1. 1. 1. 1.\n",
      " 1. 1. 1. 1. 1. 1. 1. 1. 1. 1. 1. 1. 1. 1. 1. 1. 1. 1. 1. 1. 1. 1. 1. 1.\n",
      " 1. 1. 1. 1. 1. 1. 1. 1. 1. 1. 1. 1. 1. 1. 1. 1. 1. 1. 1. 1. 1. 1. 1. 1.\n",
      " 1. 1. 1. 1. 1. 1. 1. 1. 1. 1. 1. 1. 1. 1. 1. 1. 1. 1. 1. 1. 1. 1. 1. 1.\n",
      " 1. 1. 1. 1. 1. 1. 1. 1. 1. 1. 1. 1. 1. 1. 1. 1. 1. 1. 1. 1. 1. 1. 1. 1.\n",
      " 1. 1. 1. 1. 1. 1. 1. 1. 1. 1. 1. 1. 1. 1. 1. 1. 1. 1. 1. 1. 1. 1. 1. 1.\n",
      " 1. 1. 1. 1. 1. 1. 1. 1. 1. 1. 1. 1. 1. 1.]\n"
     ]
    }
   ],
   "source": [
    "# load the trained random fores model\n",
    "loaded_rf = joblib.load(\"./random_forest_rf_clf.joblib\")\n",
    "y_pred_from_loaded_rf_clf = loaded_rf.predict(X_test)\n",
    "print(\"y_pred_rf_clf = \", y_pred_from_loaded_rf_clf)"
   ]
  },
  {
   "cell_type": "code",
   "execution_count": 93,
   "id": "66106373",
   "metadata": {},
   "outputs": [
    {
     "name": "stdout",
     "output_type": "stream",
     "text": [
      "-------------------------TEST SCORES-----------------------\n",
      "Recall: 100.0\n",
      "Precision: 100.0\n",
      "F1-Score: 100.0\n",
      "Accuracy score: 100.0\n"
     ]
    }
   ],
   "source": [
    "# the accuracy scores\n",
    "\n",
    "print(\"-------------------------TEST SCORES-----------------------\") \n",
    "print(f\"Recall: { round(recall_score(Y_test, y_pred_from_loaded_rf_clf)*100, 4) }\")\n",
    "print(f\"Precision: { round(precision_score(Y_test, y_pred_from_loaded_rf_clf)*100, 4) }\")\n",
    "print(f\"F1-Score: { round(f1_score(Y_test, y_pred_from_loaded_rf_clf)*100, 4) }\")\n",
    "print(f\"Accuracy score: { round(accuracy_score(Y_test, y_pred_from_loaded_rf_clf)*100, 4) }\")\n",
    "#print(f\"AUC Score: { round(roc_auc_score(Y_test, y_pred_from_loaded_rf_clf)*100, 4) }\")"
   ]
  },
  {
   "cell_type": "code",
   "execution_count": null,
   "id": "e0e07818",
   "metadata": {},
   "outputs": [],
   "source": []
  }
 ],
 "metadata": {
  "kernelspec": {
   "display_name": "conda_python3",
   "language": "python",
   "name": "conda_python3"
  },
  "language_info": {
   "codemirror_mode": {
    "name": "ipython",
    "version": 3
   },
   "file_extension": ".py",
   "mimetype": "text/x-python",
   "name": "python",
   "nbconvert_exporter": "python",
   "pygments_lexer": "ipython3",
   "version": "3.6.13"
  }
 },
 "nbformat": 4,
 "nbformat_minor": 5
}
